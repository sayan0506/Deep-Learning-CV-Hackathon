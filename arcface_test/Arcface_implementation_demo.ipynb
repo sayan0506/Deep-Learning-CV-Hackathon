{
  "nbformat": 4,
  "nbformat_minor": 0,
  "metadata": {
    "colab": {
      "name": "Arcface_implementation demo.ipynb",
      "provenance": []
    },
    "kernelspec": {
      "name": "python3",
      "display_name": "Python 3"
    },
    "language_info": {
      "name": "python"
    },
    "accelerator": "GPU"
  },
  "cells": [
    {
      "cell_type": "code",
      "metadata": {
        "colab": {
          "base_uri": "https://localhost:8080/"
        },
        "id": "96HqM9BieqEq",
        "outputId": "e29a7dd0-4c4f-4b7f-ff3a-7004eb7aaec2"
      },
      "source": [
        "# installing bcolz\n",
        "!pip install bcolz\n",
        "\n",
        "# tensorboardx\n",
        "!pip install tensorboardX\n",
        "\n",
        "# mxnet\n",
        "!pip install mxnet"
      ],
      "execution_count": 2,
      "outputs": [
        {
          "output_type": "stream",
          "text": [
            "Requirement already satisfied: bcolz in /usr/local/lib/python3.7/dist-packages (1.2.1)\n",
            "Requirement already satisfied: numpy>=1.7 in /usr/local/lib/python3.7/dist-packages (from bcolz) (1.19.5)\n",
            "Collecting tensorboardX\n",
            "\u001b[?25l  Downloading https://files.pythonhosted.org/packages/07/84/46421bd3e0e89a92682b1a38b40efc22dafb6d8e3d947e4ceefd4a5fabc7/tensorboardX-2.2-py2.py3-none-any.whl (120kB)\n",
            "\u001b[K     |████████████████████████████████| 122kB 2.9MB/s \n",
            "\u001b[?25hRequirement already satisfied: numpy in /usr/local/lib/python3.7/dist-packages (from tensorboardX) (1.19.5)\n",
            "Requirement already satisfied: protobuf>=3.8.0 in /usr/local/lib/python3.7/dist-packages (from tensorboardX) (3.12.4)\n",
            "Requirement already satisfied: setuptools in /usr/local/lib/python3.7/dist-packages (from protobuf>=3.8.0->tensorboardX) (56.1.0)\n",
            "Requirement already satisfied: six>=1.9 in /usr/local/lib/python3.7/dist-packages (from protobuf>=3.8.0->tensorboardX) (1.15.0)\n",
            "Installing collected packages: tensorboardX\n",
            "Successfully installed tensorboardX-2.2\n",
            "Collecting mxnet\n",
            "\u001b[?25l  Downloading https://files.pythonhosted.org/packages/30/07/66174e78c12a3048db9039aaa09553e35035ef3a008ba3e0ed8d2aa3c47b/mxnet-1.8.0.post0-py2.py3-none-manylinux2014_x86_64.whl (46.9MB)\n",
            "\u001b[K     |████████████████████████████████| 46.9MB 58kB/s \n",
            "\u001b[?25hRequirement already satisfied: numpy<2.0.0,>1.16.0 in /usr/local/lib/python3.7/dist-packages (from mxnet) (1.19.5)\n",
            "Requirement already satisfied: requests<3,>=2.20.0 in /usr/local/lib/python3.7/dist-packages (from mxnet) (2.23.0)\n",
            "Collecting graphviz<0.9.0,>=0.8.1\n",
            "  Downloading https://files.pythonhosted.org/packages/53/39/4ab213673844e0c004bed8a0781a0721a3f6bb23eb8854ee75c236428892/graphviz-0.8.4-py2.py3-none-any.whl\n",
            "Requirement already satisfied: idna<3,>=2.5 in /usr/local/lib/python3.7/dist-packages (from requests<3,>=2.20.0->mxnet) (2.10)\n",
            "Requirement already satisfied: urllib3!=1.25.0,!=1.25.1,<1.26,>=1.21.1 in /usr/local/lib/python3.7/dist-packages (from requests<3,>=2.20.0->mxnet) (1.24.3)\n",
            "Requirement already satisfied: certifi>=2017.4.17 in /usr/local/lib/python3.7/dist-packages (from requests<3,>=2.20.0->mxnet) (2020.12.5)\n",
            "Requirement already satisfied: chardet<4,>=3.0.2 in /usr/local/lib/python3.7/dist-packages (from requests<3,>=2.20.0->mxnet) (3.0.4)\n",
            "Installing collected packages: graphviz, mxnet\n",
            "  Found existing installation: graphviz 0.10.1\n",
            "    Uninstalling graphviz-0.10.1:\n",
            "      Successfully uninstalled graphviz-0.10.1\n",
            "Successfully installed graphviz-0.8.4 mxnet-1.8.0.post0\n"
          ],
          "name": "stdout"
        }
      ]
    },
    {
      "cell_type": "markdown",
      "metadata": {
        "id": "qKJ5qNUGeB9k"
      },
      "source": [
        "## **Mount Drive**"
      ]
    },
    {
      "cell_type": "code",
      "metadata": {
        "colab": {
          "base_uri": "https://localhost:8080/"
        },
        "id": "39VYnKD8kfyo",
        "outputId": "72b89086-da22-4561-c5db-33abff050e28"
      },
      "source": [
        "from google.colab import drive\n",
        "drive.mount('/content/drive')"
      ],
      "execution_count": 3,
      "outputs": [
        {
          "output_type": "stream",
          "text": [
            "Go to this URL in a browser: https://accounts.google.com/o/oauth2/auth?client_id=947318989803-6bn6qk8qdgf4n4g3pfee6491hc0brc4i.apps.googleusercontent.com&redirect_uri=urn%3aietf%3awg%3aoauth%3a2.0%3aoob&scope=email%20https%3a%2f%2fwww.googleapis.com%2fauth%2fdocs.test%20https%3a%2f%2fwww.googleapis.com%2fauth%2fdrive%20https%3a%2f%2fwww.googleapis.com%2fauth%2fdrive.photos.readonly%20https%3a%2f%2fwww.googleapis.com%2fauth%2fpeopleapi.readonly%20https%3a%2f%2fwww.googleapis.com%2fauth%2fdrive.activity.readonly%20https%3a%2f%2fwww.googleapis.com%2fauth%2fexperimentsandconfigs%20https%3a%2f%2fwww.googleapis.com%2fauth%2fphotos.native&response_type=code\n",
            "\n",
            "Enter your authorization code:\n",
            "4/1AY0e-g6-9lDMSIv5cPAzJQQQpFbwqDgLK_JVT0g3vpeZcfG-1YeGNrBtGl0\n",
            "Mounted at /content/drive\n"
          ],
          "name": "stdout"
        }
      ]
    },
    {
      "cell_type": "markdown",
      "metadata": {
        "id": "OlVcLFgmtCFb"
      },
      "source": [
        "## **Clone the git repo**\n",
        "\n",
        "Git repo: **https://github.com/TreB1eN/InsightFace_Pytorch**"
      ]
    },
    {
      "cell_type": "code",
      "metadata": {
        "colab": {
          "base_uri": "https://localhost:8080/"
        },
        "id": "XxX0lJ5KoV5e",
        "outputId": "f5e7581c-d867-44df-d328-d6bd80442589"
      },
      "source": [
        "!git clone https://github.com/TreB1eN/InsightFace_Pytorch"
      ],
      "execution_count": 4,
      "outputs": [
        {
          "output_type": "stream",
          "text": [
            "Cloning into 'InsightFace_Pytorch'...\n",
            "remote: Enumerating objects: 236, done.\u001b[K\n",
            "remote: Total 236 (delta 0), reused 0 (delta 0), pack-reused 236\u001b[K\n",
            "Receiving objects: 100% (236/236), 14.35 MiB | 20.64 MiB/s, done.\n",
            "Resolving deltas: 100% (118/118), done.\n"
          ],
          "name": "stdout"
        }
      ]
    },
    {
      "cell_type": "markdown",
      "metadata": {
        "id": "rpoeXZKMeIAh"
      },
      "source": [
        "**Change Directory**"
      ]
    },
    {
      "cell_type": "code",
      "metadata": {
        "id": "nHya2TX6tNog",
        "colab": {
          "base_uri": "https://localhost:8080/"
        },
        "outputId": "b7418f49-4f1e-491d-e670-d13a202abf87"
      },
      "source": [
        "%cd /content/InsightFace_Pytorch"
      ],
      "execution_count": 5,
      "outputs": [
        {
          "output_type": "stream",
          "text": [
            "/content/InsightFace_Pytorch\n"
          ],
          "name": "stdout"
        }
      ]
    },
    {
      "cell_type": "markdown",
      "metadata": {
        "id": "PO7BhLBlSNxm"
      },
      "source": [
        "## **Load MTCNN face detector repo inside the InsightFace Pytorch** "
      ]
    },
    {
      "cell_type": "code",
      "metadata": {
        "colab": {
          "base_uri": "https://localhost:8080/"
        },
        "id": "M9qQKs4dtdOM",
        "outputId": "84fe77d5-7e35-478b-81ba-9c6d4bd24173"
      },
      "source": [
        "!git clone https://github.com/TropComplique/mtcnn-pytorch.git"
      ],
      "execution_count": 6,
      "outputs": [
        {
          "output_type": "stream",
          "text": [
            "Cloning into 'mtcnn-pytorch'...\n",
            "remote: Enumerating objects: 76, done.\u001b[K\n",
            "remote: Total 76 (delta 0), reused 0 (delta 0), pack-reused 76\u001b[K\n",
            "Unpacking objects: 100% (76/76), done.\n"
          ],
          "name": "stdout"
        }
      ]
    },
    {
      "cell_type": "code",
      "metadata": {
        "colab": {
          "base_uri": "https://localhost:8080/"
        },
        "id": "gZ6kjCMUKIAQ",
        "outputId": "e6455edf-7663-4d73-aba2-5635c5fb2619"
      },
      "source": [
        "# checking present working directory\n",
        "!pwd"
      ],
      "execution_count": 7,
      "outputs": [
        {
          "output_type": "stream",
          "text": [
            "/content/InsightFace_Pytorch\n"
          ],
          "name": "stdout"
        }
      ]
    },
    {
      "cell_type": "code",
      "metadata": {
        "id": "GxPgSbhYtnhK",
        "colab": {
          "base_uri": "https://localhost:8080/"
        },
        "outputId": "938395e4-1bb3-4508-c73d-4f0f08c91d4d"
      },
      "source": [
        "!pip install -r requirements.txt"
      ],
      "execution_count": 9,
      "outputs": [
        {
          "output_type": "stream",
          "text": [
            "\u001b[31mERROR: Could not find a version that satisfies the requirement torch==0.4.0 (from -r requirements.txt (line 1)) (from versions: 0.1.2, 0.1.2.post1, 0.1.2.post2, 0.4.1, 0.4.1.post2, 1.0.0, 1.0.1, 1.0.1.post2, 1.1.0, 1.2.0, 1.3.0, 1.3.1, 1.4.0, 1.5.0, 1.5.1, 1.6.0, 1.7.0, 1.7.1, 1.8.0, 1.8.1)\u001b[0m\n",
            "\u001b[31mERROR: No matching distribution found for torch==0.4.0 (from -r requirements.txt (line 1))\u001b[0m\n"
          ],
          "name": "stdout"
        }
      ]
    },
    {
      "cell_type": "markdown",
      "metadata": {
        "id": "nRhJjKEWebRA"
      },
      "source": [
        "## **Import Dependencies**"
      ]
    },
    {
      "cell_type": "code",
      "metadata": {
        "id": "cqhl6Z4bKCjF"
      },
      "source": [
        "from pathlib import Path\n",
        "from mtcnn import MTCNN\n",
        "from mtcnn_pytorch.src.align_trans import get_reference_facial_points, warp_and_crop_face\n",
        "from PIL import Image\n",
        "from mtcnn_pytorch.src.get_nets import PNet, RNet, ONet\n",
        "\n",
        "# to load arcface senet model\n",
        "import torch\n",
        "\n",
        "from config import get_config\n",
        "import argparse\n",
        "from Learner import face_learner\n",
        "from data.data_pipe import get_val_pair\n",
        "from torchvision import transforms as trans\n",
        "\n",
        "import pdb"
      ],
      "execution_count": 12,
      "outputs": []
    },
    {
      "cell_type": "markdown",
      "metadata": {
        "id": "Y7yo_FieeiFr"
      },
      "source": [
        "## **Check GPU utilization**"
      ]
    },
    {
      "cell_type": "code",
      "metadata": {
        "colab": {
          "base_uri": "https://localhost:8080/"
        },
        "id": "zYnqoImyS2QG",
        "outputId": "0c0e9ad6-da53-43e7-cfb7-54ad0ebd0f94"
      },
      "source": [
        "device = torch.device(\"cuda:0\" if torch.cuda.is_available() else \"cpu\")\n",
        "device"
      ],
      "execution_count": 11,
      "outputs": [
        {
          "output_type": "execute_result",
          "data": {
            "text/plain": [
              "device(type='cuda', index=0)"
            ]
          },
          "metadata": {
            "tags": []
          },
          "execution_count": 11
        }
      ]
    },
    {
      "cell_type": "code",
      "metadata": {
        "id": "9nTKIeJGgMwg"
      },
      "source": [
        "# instantiating MTCNN object\n",
        "mtcnn = MTCNN()"
      ],
      "execution_count": null,
      "outputs": []
    },
    {
      "cell_type": "markdown",
      "metadata": {
        "id": "GgJltQsVgcm1"
      },
      "source": [
        "## **Arcface ir-se50 model check**"
      ]
    },
    {
      "cell_type": "markdown",
      "metadata": {
        "id": "G-qZnDW7gXxI"
      },
      "source": [
        "**Defining Configeration**"
      ]
    },
    {
      "cell_type": "code",
      "metadata": {
        "colab": {
          "base_uri": "https://localhost:8080/"
        },
        "id": "qmKFueTBT08k",
        "outputId": "a925d7af-9d6d-414e-fb88-5abcedd6ebd6"
      },
      "source": [
        "conf = get_config(training=False)\n",
        "conf"
      ],
      "execution_count": 15,
      "outputs": [
        {
          "output_type": "execute_result",
          "data": {
            "text/plain": [
              "{'batch_size': 100,\n",
              " 'data_mode': 'emore',\n",
              " 'data_path': PosixPath('data'),\n",
              " 'device': device(type='cuda', index=0),\n",
              " 'drop_ratio': 0.6,\n",
              " 'embedding_size': 512,\n",
              " 'emore_folder': PosixPath('data/faces_emore'),\n",
              " 'face_limit': 10,\n",
              " 'facebank_path': PosixPath('data/facebank'),\n",
              " 'input_size': [112, 112],\n",
              " 'log_path': PosixPath('work_space/log'),\n",
              " 'min_face_size': 30,\n",
              " 'model_path': PosixPath('work_space/models'),\n",
              " 'ms1m_folder': PosixPath('data/faces_ms1m_112x112'),\n",
              " 'net_depth': 50,\n",
              " 'net_mode': 'ir_se',\n",
              " 'save_path': PosixPath('work_space/save'),\n",
              " 'test_transform': Compose(\n",
              "     ToTensor()\n",
              "     Normalize(mean=[0.5, 0.5, 0.5], std=[0.5, 0.5, 0.5])\n",
              " ),\n",
              " 'threshold': 1.5,\n",
              " 'use_mobilfacenet': False,\n",
              " 'vgg_folder': PosixPath('data/faces_vgg_112x112'),\n",
              " 'work_path': PosixPath('work_space')}"
            ]
          },
          "metadata": {
            "tags": []
          },
          "execution_count": 15
        }
      ]
    },
    {
      "cell_type": "markdown",
      "metadata": {
        "id": "fsVOQde9gnh4"
      },
      "source": [
        "**Instantiating face_learner object**"
      ]
    },
    {
      "cell_type": "code",
      "metadata": {
        "colab": {
          "base_uri": "https://localhost:8080/"
        },
        "id": "tlnI3bfQUlSm",
        "outputId": "4498322c-b55f-4c59-9fd2-e91e8c626925"
      },
      "source": [
        "learner = face_learner(conf, inference=True)"
      ],
      "execution_count": 14,
      "outputs": [
        {
          "output_type": "stream",
          "text": [
            "{'data_path': PosixPath('data'), 'work_path': PosixPath('work_space'), 'model_path': PosixPath('work_space/models'), 'log_path': PosixPath('work_space/log'), 'save_path': PosixPath('work_space/save'), 'input_size': [112, 112], 'embedding_size': 512, 'use_mobilfacenet': False, 'net_depth': 50, 'drop_ratio': 0.6, 'net_mode': 'ir_se', 'device': device(type='cuda', index=0), 'test_transform': Compose(\n",
            "    ToTensor()\n",
            "    Normalize(mean=[0.5, 0.5, 0.5], std=[0.5, 0.5, 0.5])\n",
            "), 'data_mode': 'emore', 'vgg_folder': PosixPath('data/faces_vgg_112x112'), 'ms1m_folder': PosixPath('data/faces_ms1m_112x112'), 'emore_folder': PosixPath('data/faces_emore'), 'batch_size': 100, 'facebank_path': PosixPath('data/facebank'), 'threshold': 1.5, 'face_limit': 10, 'min_face_size': 30}\n",
            "ir_se_50 model generated\n"
          ],
          "name": "stdout"
        }
      ]
    },
    {
      "cell_type": "markdown",
      "metadata": {
        "id": "fDqS92AAg0rN"
      },
      "source": [
        "**Adding custom model path**\n",
        "\n",
        "link: \"https://drive.google.com/file/d/1E13bpbJtRXar5g-RtiHlYcFcV2cUc7kX/view?usp=sharing\""
      ]
    },
    {
      "cell_type": "code",
      "metadata": {
        "id": "VWI-shRvW-9Y"
      },
      "source": [
        "# redefining custom saved_model path found from the arcface repo link\n",
        "conf['save_path'] = '/content/drive/MyDrive/arcface'"
      ],
      "execution_count": 16,
      "outputs": []
    },
    {
      "cell_type": "markdown",
      "metadata": {
        "id": "0Jsea4j9hV-E"
      },
      "source": [
        "**Load the state dict**"
      ]
    },
    {
      "cell_type": "code",
      "metadata": {
        "colab": {
          "base_uri": "https://localhost:8080/"
        },
        "id": "9KHnWg7zUt7g",
        "outputId": "e29138ff-72c8-496c-8ca5-1b093dc59979"
      },
      "source": [
        "learner.model.load_state_dict(torch.load('/content/drive/MyDrive/arcface/model_ir_se50.pth'))"
      ],
      "execution_count": 17,
      "outputs": [
        {
          "output_type": "execute_result",
          "data": {
            "text/plain": [
              "<All keys matched successfully>"
            ]
          },
          "metadata": {
            "tags": []
          },
          "execution_count": 17
        }
      ]
    },
    {
      "cell_type": "markdown",
      "metadata": {
        "id": "TXsgTJy-hZvv"
      },
      "source": [
        "**Model weights are loaded successfully**"
      ]
    }
  ]
}